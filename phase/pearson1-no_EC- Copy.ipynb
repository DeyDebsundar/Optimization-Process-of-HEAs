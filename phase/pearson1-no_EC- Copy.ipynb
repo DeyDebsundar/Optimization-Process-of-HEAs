{
 "cells": [
  {
   "cell_type": "code",
   "execution_count": 1,
   "id": "f734ddfb",
   "metadata": {},
   "outputs": [],
   "source": [
    "import pandas as pd\n",
    "import numpy as np\n",
    "import seaborn as sns\n",
    "import matplotlib.pyplot as plt"
   ]
  },
  {
   "cell_type": "code",
   "execution_count": 2,
   "id": "849feb5b-79d2-42ac-a15c-914967d08c73",
   "metadata": {},
   "outputs": [
    {
     "name": "stdout",
     "output_type": "stream",
     "text": [
      "Defaulting to user installation because normal site-packages is not writeable\n",
      "Requirement already satisfied: xgboost in c:\\users\\debs\\appdata\\roaming\\python\\python311\\site-packages (2.1.0)\n",
      "Requirement already satisfied: numpy in c:\\users\\debs\\appdata\\roaming\\python\\python311\\site-packages (from xgboost) (1.26.4)\n",
      "Requirement already satisfied: scipy in c:\\users\\debs\\appdata\\roaming\\python\\python311\\site-packages (from xgboost) (1.13.1)\n"
     ]
    },
    {
     "name": "stderr",
     "output_type": "stream",
     "text": [
      "DEPRECATION: Loading egg at c:\\program files\\python311\\lib\\site-packages\\vboxapi-1.0-py3.11.egg is deprecated. pip 24.3 will enforce this behaviour change. A possible replacement is to use pip for package installation.. Discussion can be found at https://github.com/pypa/pip/issues/12330\n",
      "\n",
      "[notice] A new release of pip is available: 24.0 -> 24.2\n",
      "[notice] To update, run: python.exe -m pip install --upgrade pip\n"
     ]
    }
   ],
   "source": [
    "!pip install xgboost\n"
   ]
  },
  {
   "cell_type": "code",
   "execution_count": 3,
   "id": "ec6bb118",
   "metadata": {},
   "outputs": [],
   "source": [
    "#Load the dataset #https://www.kaggle.com/burak3ergun/loan-data-set\n",
    "hard_elec = pd.read_csv(\"hard_elec_reduced_new_no_EC.csv\")"
   ]
  },
  {
   "cell_type": "code",
   "execution_count": 4,
   "id": "51c62d9c",
   "metadata": {},
   "outputs": [],
   "source": [
    "import pandas as pd\n",
    "import numpy as np\n",
    "from sklearn.metrics import mean_absolute_percentage_error, r2_score\n",
    "from sklearn.model_selection import train_test_split\n",
    "from sklearn.preprocessing import MinMaxScaler\n",
    "from sklearn.ensemble import RandomForestRegressor\n",
    "from sklearn.linear_model import LinearRegression\n",
    "from sklearn.svm import SVR\n",
    "from sklearn.preprocessing import PolynomialFeatures\n",
    "from xgboost import XGBRegressor\n",
    "import matplotlib.pyplot as plt"
   ]
  },
  {
   "cell_type": "code",
   "execution_count": 5,
   "id": "80240ce5",
   "metadata": {},
   "outputs": [],
   "source": [
    "from sklearn.feature_selection import mutual_info_regression"
   ]
  },
  {
   "cell_type": "code",
   "execution_count": 6,
   "id": "20a16896",
   "metadata": {},
   "outputs": [],
   "source": [
    "from sklearn.pipeline import Pipeline\n",
    "from sklearn.preprocessing import MinMaxScaler\n",
    "from sklearn.linear_model import LinearRegression, Ridge, Lasso\n",
    "from sklearn.ensemble import RandomForestRegressor, GradientBoostingRegressor\n",
    "from sklearn.svm import SVR\n",
    "from sklearn.neighbors import KNeighborsRegressor\n",
    "from sklearn.tree import DecisionTreeRegressor\n",
    "from sklearn.model_selection import train_test_split, GridSearchCV\n",
    "from sklearn.ensemble import StackingRegressor\n",
    "from sklearn.compose import TransformedTargetRegressor\n",
    "from sklearn.metrics import mean_absolute_percentage_error, r2_score"
   ]
  },
  {
   "cell_type": "code",
   "execution_count": 7,
   "id": "93cf89ee",
   "metadata": {},
   "outputs": [],
   "source": [
    "#hard = pd.read_csv(\"hardness_composition_data.csv\")\n",
    "hard_elec_ip = hard_elec.drop(columns = [\"Hardness\"])\n",
    "hard_elec_op =hard_elec[\"Hardness\"]"
   ]
  },
  {
   "cell_type": "code",
   "execution_count": 8,
   "id": "846c2135",
   "metadata": {},
   "outputs": [
    {
     "data": {
      "text/html": [
       "<div>\n",
       "<style scoped>\n",
       "    .dataframe tbody tr th:only-of-type {\n",
       "        vertical-align: middle;\n",
       "    }\n",
       "\n",
       "    .dataframe tbody tr th {\n",
       "        vertical-align: top;\n",
       "    }\n",
       "\n",
       "    .dataframe thead th {\n",
       "        text-align: right;\n",
       "    }\n",
       "</style>\n",
       "<table border=\"1\" class=\"dataframe\">\n",
       "  <thead>\n",
       "    <tr style=\"text-align: right;\">\n",
       "      <th></th>\n",
       "      <th>del r</th>\n",
       "      <th>delta x</th>\n",
       "      <th>VEC</th>\n",
       "      <th>delta H</th>\n",
       "      <th>delta S</th>\n",
       "      <th>omega</th>\n",
       "      <th>upper lamda</th>\n",
       "      <th>e1/a</th>\n",
       "      <th>Hardness</th>\n",
       "    </tr>\n",
       "  </thead>\n",
       "  <tbody>\n",
       "    <tr>\n",
       "      <th>0</th>\n",
       "      <td>0.049517</td>\n",
       "      <td>0.121763</td>\n",
       "      <td>7.735</td>\n",
       "      <td>-4.504864</td>\n",
       "      <td>14.703548</td>\n",
       "      <td>5283.665760</td>\n",
       "      <td>5996.595516</td>\n",
       "      <td>1.820</td>\n",
       "      <td>473.0</td>\n",
       "    </tr>\n",
       "    <tr>\n",
       "      <th>1</th>\n",
       "      <td>0.050757</td>\n",
       "      <td>0.116571</td>\n",
       "      <td>8.008</td>\n",
       "      <td>-5.034848</td>\n",
       "      <td>14.703548</td>\n",
       "      <td>4618.000434</td>\n",
       "      <td>5707.252374</td>\n",
       "      <td>1.911</td>\n",
       "      <td>367.0</td>\n",
       "    </tr>\n",
       "    <tr>\n",
       "      <th>2</th>\n",
       "      <td>0.050006</td>\n",
       "      <td>0.124052</td>\n",
       "      <td>7.826</td>\n",
       "      <td>-5.564832</td>\n",
       "      <td>14.703548</td>\n",
       "      <td>4266.914201</td>\n",
       "      <td>5879.963503</td>\n",
       "      <td>1.820</td>\n",
       "      <td>418.0</td>\n",
       "    </tr>\n",
       "    <tr>\n",
       "      <th>3</th>\n",
       "      <td>0.049517</td>\n",
       "      <td>0.119375</td>\n",
       "      <td>7.644</td>\n",
       "      <td>-3.908632</td>\n",
       "      <td>14.703548</td>\n",
       "      <td>6103.238979</td>\n",
       "      <td>5996.595516</td>\n",
       "      <td>1.820</td>\n",
       "      <td>423.0</td>\n",
       "    </tr>\n",
       "    <tr>\n",
       "      <th>4</th>\n",
       "      <td>0.032019</td>\n",
       "      <td>0.103069</td>\n",
       "      <td>8.058</td>\n",
       "      <td>-6.400612</td>\n",
       "      <td>12.594051</td>\n",
       "      <td>3567.981959</td>\n",
       "      <td>12284.658130</td>\n",
       "      <td>1.844</td>\n",
       "      <td>168.0</td>\n",
       "    </tr>\n",
       "  </tbody>\n",
       "</table>\n",
       "</div>"
      ],
      "text/plain": [
       "      del r   delta x    VEC   delta H    delta S        omega   upper lamda  \\\n",
       "0  0.049517  0.121763  7.735 -4.504864  14.703548  5283.665760   5996.595516   \n",
       "1  0.050757  0.116571  8.008 -5.034848  14.703548  4618.000434   5707.252374   \n",
       "2  0.050006  0.124052  7.826 -5.564832  14.703548  4266.914201   5879.963503   \n",
       "3  0.049517  0.119375  7.644 -3.908632  14.703548  6103.238979   5996.595516   \n",
       "4  0.032019  0.103069  8.058 -6.400612  12.594051  3567.981959  12284.658130   \n",
       "\n",
       "    e1/a  Hardness  \n",
       "0  1.820     473.0  \n",
       "1  1.911     367.0  \n",
       "2  1.820     418.0  \n",
       "3  1.820     423.0  \n",
       "4  1.844     168.0  "
      ]
     },
     "execution_count": 8,
     "metadata": {},
     "output_type": "execute_result"
    }
   ],
   "source": [
    "hard_elec.head()"
   ]
  },
  {
   "cell_type": "code",
   "execution_count": null,
   "id": "839a50ac",
   "metadata": {},
   "outputs": [],
   "source": []
  },
  {
   "cell_type": "code",
   "execution_count": 9,
   "id": "9c6ef96a",
   "metadata": {},
   "outputs": [
    {
     "data": {
      "text/html": [
       "<div>\n",
       "<style scoped>\n",
       "    .dataframe tbody tr th:only-of-type {\n",
       "        vertical-align: middle;\n",
       "    }\n",
       "\n",
       "    .dataframe tbody tr th {\n",
       "        vertical-align: top;\n",
       "    }\n",
       "\n",
       "    .dataframe thead th {\n",
       "        text-align: right;\n",
       "    }\n",
       "</style>\n",
       "<table border=\"1\" class=\"dataframe\">\n",
       "  <thead>\n",
       "    <tr style=\"text-align: right;\">\n",
       "      <th></th>\n",
       "      <th>del r</th>\n",
       "      <th>delta x</th>\n",
       "      <th>VEC</th>\n",
       "      <th>delta H</th>\n",
       "      <th>delta S</th>\n",
       "      <th>omega</th>\n",
       "      <th>upper lamda</th>\n",
       "      <th>e1/a</th>\n",
       "    </tr>\n",
       "  </thead>\n",
       "  <tbody>\n",
       "    <tr>\n",
       "      <th>0</th>\n",
       "      <td>0.049517</td>\n",
       "      <td>0.121763</td>\n",
       "      <td>7.735</td>\n",
       "      <td>-4.504864</td>\n",
       "      <td>14.703548</td>\n",
       "      <td>5283.665760</td>\n",
       "      <td>5996.595516</td>\n",
       "      <td>1.820</td>\n",
       "    </tr>\n",
       "    <tr>\n",
       "      <th>1</th>\n",
       "      <td>0.050757</td>\n",
       "      <td>0.116571</td>\n",
       "      <td>8.008</td>\n",
       "      <td>-5.034848</td>\n",
       "      <td>14.703548</td>\n",
       "      <td>4618.000434</td>\n",
       "      <td>5707.252374</td>\n",
       "      <td>1.911</td>\n",
       "    </tr>\n",
       "    <tr>\n",
       "      <th>2</th>\n",
       "      <td>0.050006</td>\n",
       "      <td>0.124052</td>\n",
       "      <td>7.826</td>\n",
       "      <td>-5.564832</td>\n",
       "      <td>14.703548</td>\n",
       "      <td>4266.914201</td>\n",
       "      <td>5879.963503</td>\n",
       "      <td>1.820</td>\n",
       "    </tr>\n",
       "    <tr>\n",
       "      <th>3</th>\n",
       "      <td>0.049517</td>\n",
       "      <td>0.119375</td>\n",
       "      <td>7.644</td>\n",
       "      <td>-3.908632</td>\n",
       "      <td>14.703548</td>\n",
       "      <td>6103.238979</td>\n",
       "      <td>5996.595516</td>\n",
       "      <td>1.820</td>\n",
       "    </tr>\n",
       "    <tr>\n",
       "      <th>4</th>\n",
       "      <td>0.032019</td>\n",
       "      <td>0.103069</td>\n",
       "      <td>8.058</td>\n",
       "      <td>-6.400612</td>\n",
       "      <td>12.594051</td>\n",
       "      <td>3567.981959</td>\n",
       "      <td>12284.658130</td>\n",
       "      <td>1.844</td>\n",
       "    </tr>\n",
       "  </tbody>\n",
       "</table>\n",
       "</div>"
      ],
      "text/plain": [
       "      del r   delta x    VEC   delta H    delta S        omega   upper lamda  \\\n",
       "0  0.049517  0.121763  7.735 -4.504864  14.703548  5283.665760   5996.595516   \n",
       "1  0.050757  0.116571  8.008 -5.034848  14.703548  4618.000434   5707.252374   \n",
       "2  0.050006  0.124052  7.826 -5.564832  14.703548  4266.914201   5879.963503   \n",
       "3  0.049517  0.119375  7.644 -3.908632  14.703548  6103.238979   5996.595516   \n",
       "4  0.032019  0.103069  8.058 -6.400612  12.594051  3567.981959  12284.658130   \n",
       "\n",
       "    e1/a  \n",
       "0  1.820  \n",
       "1  1.911  \n",
       "2  1.820  \n",
       "3  1.820  \n",
       "4  1.844  "
      ]
     },
     "execution_count": 9,
     "metadata": {},
     "output_type": "execute_result"
    }
   ],
   "source": [
    "hard_elec_ip.head()"
   ]
  },
  {
   "cell_type": "code",
   "execution_count": 10,
   "id": "984c5942",
   "metadata": {},
   "outputs": [
    {
     "data": {
      "text/plain": [
       "<Axes: >"
      ]
     },
     "execution_count": 10,
     "metadata": {},
     "output_type": "execute_result"
    },
    {
     "data": {
      "image/png": "[encoded data removed]",
      "text/plain": [
       "<Figure size 2000x1000 with 2 Axes>"
      ]
     },
     "metadata": {},
     "output_type": "display_data"
    }
   ],
   "source": [
    "import seaborn as sns\n",
    "plt.figure(figsize = (20,10))\n",
    "sns.heatmap( hard_elec.corr(), annot = True)"
   ]
  },
  {
   "cell_type": "code",
   "execution_count": 11,
   "id": "0e0d15ca",
   "metadata": {},
   "outputs": [],
   "source": [
    "X = hard_elec_ip\n",
    "y = hard_elec_op"
   ]
  },
  {
   "cell_type": "markdown",
   "id": "6bc47ea7",
   "metadata": {},
   "source": [
    "# separate dataset into train and test\n",
    "from sklearn.model_selection import train_test_split\n",
    "X_train, X_test, y_train, y_test = train_test_split(\n",
    "    X,\n",
    "   y,\n",
    "    test_size=0.,\n",
    "    random_state=0)\n",
    "\n",
    "X_train.shape, X_test.shape"
   ]
  },
  {
   "cell_type": "code",
   "execution_count": null,
   "id": "13eb6d0e",
   "metadata": {},
   "outputs": [],
   "source": []
  },
  {
   "cell_type": "code",
   "execution_count": 12,
   "id": "fcb73416",
   "metadata": {},
   "outputs": [
    {
     "data": {
      "text/plain": [
       "((184, 8), (21, 8))"
      ]
     },
     "execution_count": 12,
     "metadata": {},
     "output_type": "execute_result"
    }
   ],
   "source": [
    "# separate dataset into train and test\n",
    "from sklearn.model_selection import train_test_split\n",
    "X_train, X_test, y_train, y_test = train_test_split(\n",
    "    X,\n",
    "   y,\n",
    "    test_size=0.1,\n",
    "    random_state=0)\n",
    "\n",
    "X_train.shape, X_test.shape"
   ]
  },
  {
   "cell_type": "code",
   "execution_count": 13,
   "id": "b073144f",
   "metadata": {},
   "outputs": [],
   "source": [
    "def correlation(dataset, threshold):\n",
    "    col_corr = set()  # Set of all the names of correlated columns\n",
    "    corr_matrix = dataset.corr()\n",
    "    for i in range(len(corr_matrix.columns)):\n",
    "        for j in range(i):\n",
    "            if abs(corr_matrix.iloc[i, j]) > threshold: # we are interested in absolute coeff value\n",
    "                colname = corr_matrix.columns[i]  # getting the name of column\n",
    "                col_corr.add(colname)\n",
    "    return col_corr"
   ]
  },
  {
   "cell_type": "code",
   "execution_count": 14,
   "id": "6cba5ecb",
   "metadata": {},
   "outputs": [
    {
     "data": {
      "text/plain": [
       "0"
      ]
     },
     "execution_count": 14,
     "metadata": {},
     "output_type": "execute_result"
    }
   ],
   "source": [
    "corr_features = correlation(X_train, 0.9)\n",
    "len(set(corr_features))"
   ]
  },
  {
   "cell_type": "code",
   "execution_count": 15,
   "id": "bc48effa",
   "metadata": {},
   "outputs": [
    {
     "data": {
      "text/plain": [
       "set()"
      ]
     },
     "execution_count": 15,
     "metadata": {},
     "output_type": "execute_result"
    }
   ],
   "source": [
    "corr_features"
   ]
  },
  {
   "cell_type": "code",
   "execution_count": null,
   "id": "df9aa15e",
   "metadata": {
    "scrolled": true
   },
   "outputs": [],
   "source": [
    "\n",
    "\n"
   ]
  },
  {
   "cell_type": "code",
   "execution_count": 16,
   "id": "d18cb105",
   "metadata": {},
   "outputs": [
    {
     "data": {
      "image/png": "[encoded data removed]",
      "text/plain": [
       "<Figure size 2000x1000 with 2 Axes>"
      ]
     },
     "metadata": {},
     "output_type": "display_data"
    }
   ],
   "source": [
    "\n",
    "\n",
    "\n",
    "\n",
    "# Remove the highly correlated features from the dataset\n",
    "X_train_reduced = X_train.drop(columns=corr_features)\n",
    "\n",
    "# Create a new heatmap for the reduced dataset\n",
    "plt.figure(figsize=(20, 10))\n",
    "sns.heatmap(X_train_reduced.corr(), annot=True)\n",
    "plt.title('Correlation Matrix after removing highly correlated features')\n",
    "plt.show()\n"
   ]
  },
  {
   "cell_type": "code",
   "execution_count": null,
   "id": "5e340c47",
   "metadata": {},
   "outputs": [],
   "source": []
  },
  {
   "cell_type": "code",
   "execution_count": null,
   "id": "a3cc9c14",
   "metadata": {},
   "outputs": [],
   "source": []
  },
  {
   "cell_type": "code",
   "execution_count": null,
   "id": "f8eb496a",
   "metadata": {},
   "outputs": [],
   "source": []
  },
  {
   "cell_type": "code",
   "execution_count": null,
   "id": "591c21ee",
   "metadata": {},
   "outputs": [],
   "source": []
  },
  {
   "cell_type": "code",
   "execution_count": null,
   "id": "04159956",
   "metadata": {},
   "outputs": [],
   "source": []
  },
  {
   "cell_type": "code",
   "execution_count": 17,
   "id": "9faf3bf2",
   "metadata": {},
   "outputs": [
    {
     "name": "stdout",
     "output_type": "stream",
     "text": [
      "Features of X_train after dropping correlated features:\n",
      "Index(['del r', 'delta x', 'VEC', 'delta H', 'delta S', 'omega', 'upper lamda',\n",
      "       'e1/a'],\n",
      "      dtype='object')\n",
      "\n",
      "Features of X_test after dropping correlated features:\n",
      "Index(['del r', 'delta x', 'VEC', 'delta H', 'delta S', 'omega', 'upper lamda',\n",
      "       'e1/a'],\n",
      "      dtype='object')\n"
     ]
    }
   ],
   "source": [
    "# Assuming you have already dropped correlated features from X_train and X_test\n",
    "\n",
    "# Drop correlated features from X_train\n",
    "X_train = X_train.drop(corr_features, axis=1)\n",
    "\n",
    "# Drop correlated features from X_test\n",
    "X_test = X_test.drop(corr_features, axis=1)\n",
    "\n",
    "# Print the features of X_train\n",
    "print(\"Features of X_train after dropping correlated features:\")\n",
    "print(X_train.columns)\n",
    "\n",
    "# Print the features of X_test\n",
    "print(\"\\nFeatures of X_test after dropping correlated features:\")\n",
    "print(X_test.columns)\n"
   ]
  },
  {
   "cell_type": "code",
   "execution_count": 18,
   "id": "54b1433c",
   "metadata": {},
   "outputs": [
    {
     "name": "stdout",
     "output_type": "stream",
     "text": [
      "Index(['del r', 'delta x', 'VEC', 'delta H', 'delta S', 'omega', 'upper lamda',\n",
      "       'e1/a'],\n",
      "      dtype='object')\n"
     ]
    }
   ],
   "source": [
    "print(X_train.columns)"
   ]
  },
  {
   "cell_type": "code",
   "execution_count": 19,
   "id": "70c8b4cb",
   "metadata": {},
   "outputs": [
    {
     "name": "stdout",
     "output_type": "stream",
     "text": [
      "\n",
      "Features of X_test after dropping correlated features:\n",
      "Index(['del r', 'delta x', 'VEC', 'delta H', 'delta S', 'omega', 'upper lamda',\n",
      "       'e1/a'],\n",
      "      dtype='object')\n"
     ]
    }
   ],
   "source": [
    " #Print the features of X\n",
    "print(\"\\nFeatures of X_test after dropping correlated features:\")\n",
    "print(X.columns)\n"
   ]
  },
  {
   "cell_type": "code",
   "execution_count": 20,
   "id": "8b5f7c35",
   "metadata": {},
   "outputs": [],
   "source": [
    "def get_param_grid_for_model(model_name):\n",
    "    param_grids = {\n",
    "        'lr': {\n",
    "            'model__regressor__fit_intercept': [True, False],\n",
    "\n",
    "        },\n",
    "        'ridge': {\n",
    "            'model__regressor__alpha': [0.1, 1.0, 10.0],\n",
    "            'model__regressor__fit_intercept': [True, False],\n",
    "            'model__regressor__solver': ['auto', 'svd', 'cholesky', 'lsqr', 'sparse_cg', 'sag', 'saga']\n",
    "        },\n",
    "        'lasso': {\n",
    "            'model__regressor__alpha': [0.1, 1.0, 10.0],\n",
    "            'model__regressor__fit_intercept': [True, False],\n",
    "            'model__regressor__positive': [True, False],\n",
    "            'model__regressor__selection': ['cyclic', 'random']\n",
    "        },\n",
    "        'rf': {\n",
    "            'model__regressor__n_estimators': [50, 100, 200],\n",
    "            'model__regressor__max_depth': [None, 10, 20],\n",
    "            'model__regressor__min_samples_split': [2, 5, 10],\n",
    "            'model__regressor__min_samples_leaf': [1, 2, 4]\n",
    "        },\n",
    "        'gb': {\n",
    "            'model__regressor__n_estimators': [50, 100, 200],\n",
    "            'model__regressor__learning_rate': [0.01, 0.1, 0.2],\n",
    "            'model__regressor__max_depth': [3, 5, 7],\n",
    "            'model__regressor__min_samples_split': [2, 5, 10],\n",
    "            'model__regressor__min_samples_leaf': [1, 2, 4]\n",
    "        },\n",
    "        'svr': {\n",
    "            'model__regressor__C': [0.1, 1.0, 10.0],\n",
    "            'model__regressor__kernel': ['linear', 'poly', 'rbf'],\n",
    "            'model__regressor__gamma': ['scale', 'auto']\n",
    "        },\n",
    "        'knn': {\n",
    "            'model__regressor__n_neighbors': [3, 5, 10],\n",
    "            'model__regressor__weights': ['uniform', 'distance'],\n",
    "            'model__regressor__algorithm': ['auto', 'ball_tree', 'kd_tree']\n",
    "        },\n",
    "        'dt': {\n",
    "            'model__regressor__max_depth': [None, 5, 10, 20],\n",
    "            'model__regressor__min_samples_split': [2, 5, 10],\n",
    "            'model__regressor__min_samples_leaf': [1, 2, 4]\n",
    "        },\n",
    "        'xgb': {\n",
    "            'model__regressor__n_estimators': [10, 20, 50, 100],\n",
    "            'model__regressor__learning_rate': [0.001, 0.01, 0.1, 0.5, 1],\n",
    "            'model__regressor__max_depth': [3, 5],\n",
    "            'model__regressor__gamma': [0, 0.1, 0.2],\n",
    "            'model__regressor__reg_alpha': [0, 0.1, 0.5],\n",
    "            'model__regressor__reg_lambda': [0, 1.0, 10.0],\n",
    "\n",
    "        },\n",
    "        'lgbm': {\n",
    "            'model__regressor__n_estimators': [50, 100, 200],\n",
    "            'model__regressor__learning_rate': [0.01, 0.1, 0.2],\n",
    "            'model__regressor__max_depth': [3, 5, 7],\n",
    "            'model__regressor__num_leaves': [31, 63, 127],\n",
    "            'model__regressor__min_child_samples': [20, 40, 60],\n",
    "            'model__regressor__subsample': [0.6, 0.8, 1.0],\n",
    "            'model__regressor__colsample_bytree': [0.6, 0.8, 1.0]\n",
    "        },\n",
    "        'catboost': {\n",
    "            'model__regressor__iterations': [100, 200, 500],\n",
    "            'model__regressor__learning_rate': [0.01, 0.1, 0.2],\n",
    "            'model__regressor__depth': [3, 5, 7]\n",
    "        }\n",
    "    }\n",
    "    return param_grids.get(model_name, {})"
   ]
  },
  {
   "cell_type": "code",
   "execution_count": 21,
   "id": "ea415198",
   "metadata": {},
   "outputs": [],
   "source": [
    "import lightgbm as lgb\n",
    "from catboost import CatBoostRegressor"
   ]
  },
  {
   "cell_type": "markdown",
   "id": "efb7218f",
   "metadata": {},
   "source": []
  },
  {
   "cell_type": "code",
   "execution_count": 22,
   "id": "cefc106d",
   "metadata": {},
   "outputs": [],
   "source": [
    "# Define the models\n",
    "models = {\n",
    "    'lr': LinearRegression(),\n",
    "    'ridge': Ridge(),\n",
    "    'lasso': Lasso(),\n",
    "    'rf': RandomForestRegressor(),\n",
    "    \n",
    "    'svr': SVR(),\n",
    "    \n",
    "    'dt': DecisionTreeRegressor(),\n",
    " \n",
    "    'lgbm' : lgb.LGBMRegressor(verbose = -1)\n",
    "    \n",
    "}\n",
    "\n",
    "# Train-test split\n",
    "#X_train, X_test, y_train, y_test = train_test_split(X, y, test_size=0.1)\n",
    "\n",
    "# Train individual models and perform GridSearchCV\n",
    "best_models = {}\n",
    "\n",
    "for name, model in models.items():\n",
    "\n",
    "    pipeline = Pipeline([\n",
    "        ('preprocessor', MinMaxScaler()),\n",
    "        ('model', TransformedTargetRegressor(regressor = model,\n",
    "                                        func= np.log,\n",
    "                                        inverse_func = np.exp))\n",
    "    ])\n",
    "    param_grid = get_param_grid_for_model(name)  # Define your hyperparameter grid for each model\n",
    "    grid_search = GridSearchCV(pipeline, param_grid, cv=3, scoring='neg_mean_squared_error')\n",
    "    grid_search.fit(X_train, y_train)\n",
    "    best_models[name] = (grid_search.best_estimator_, grid_search.best_score_)\n",
    "    import pickle\n",
    "\n",
    "# save\n",
    "    with open(f'{name}.pkl','wb') as f:\n",
    "        pickle.dump(grid_search.best_estimator_,f)\n"
   ]
  },
  {
   "cell_type": "code",
   "execution_count": 23,
   "id": "de64c1c0",
   "metadata": {},
   "outputs": [],
   "source": [
    "top_3_models = sorted(best_models.items(), key = lambda x : x[-1][-1], reverse = True)[:3]\n",
    "estimators = [(name, model) for name, (model, perf) in top_3_models]"
   ]
  },
  {
   "cell_type": "code",
   "execution_count": 24,
   "id": "cb89058c",
   "metadata": {},
   "outputs": [
    {
     "data": {
      "text/plain": [
       "[('rf',\n",
       "  (Pipeline(steps=[('preprocessor', MinMaxScaler()),\n",
       "                   ('model',\n",
       "                    TransformedTargetRegressor(func=<ufunc 'log'>,\n",
       "                                               inverse_func=<ufunc 'exp'>,\n",
       "                                               regressor=RandomForestRegressor(max_depth=20,\n",
       "                                                                               n_estimators=50)))]),\n",
       "   -4400.587057347413)),\n",
       " ('lgbm',\n",
       "  (Pipeline(steps=[('preprocessor', MinMaxScaler()),\n",
       "                   ('model',\n",
       "                    TransformedTargetRegressor(func=<ufunc 'log'>,\n",
       "                                               inverse_func=<ufunc 'exp'>,\n",
       "                                               regressor=LGBMRegressor(colsample_bytree=0.8,\n",
       "                                                                       max_depth=5,\n",
       "                                                                       subsample=0.6,\n",
       "                                                                       verbose=-1)))]),\n",
       "   -4803.503264582145)),\n",
       " ('svr',\n",
       "  (Pipeline(steps=[('preprocessor', MinMaxScaler()),\n",
       "                   ('model',\n",
       "                    TransformedTargetRegressor(func=<ufunc 'log'>,\n",
       "                                               inverse_func=<ufunc 'exp'>,\n",
       "                                               regressor=SVR()))]),\n",
       "   -5868.273458779523))]"
      ]
     },
     "execution_count": 24,
     "metadata": {},
     "output_type": "execute_result"
    }
   ],
   "source": [
    "top_3_models"
   ]
  },
  {
   "cell_type": "code",
   "execution_count": null,
   "id": "23c28874",
   "metadata": {},
   "outputs": [],
   "source": []
  },
  {
   "cell_type": "markdown",
   "id": "55f0b28c",
   "metadata": {},
   "source": []
  },
  {
   "cell_type": "code",
   "execution_count": 25,
   "id": "bef19449",
   "metadata": {},
   "outputs": [],
   "source": [
    "# Build stacked regressor using top 3 models\n",
    "np.random.seed(42)\n",
    "\n",
    "final_estimator = RandomForestRegressor()\n",
    "\n",
    "final_estimator_param_grid = {\n",
    "\n",
    "            'model__regressor__final_estimator__n_estimators': [50, 100, 200],\n",
    "            # 'model__regressor__final_estimator__max_depth': [None, 10, 20],\n",
    "            # 'model__regressor__final_estimator__min_samples_split': [2, 5, 10],\n",
    "            # 'model__regressor__final_estimator__min_samples_leaf': [1, 2, 4]\n",
    "        }\n",
    "\n",
    "stacked_regressor = StackingRegressor(\n",
    "    estimators=estimators,\n",
    "    final_estimator=final_estimator,\n",
    "    passthrough = True\n",
    ")\n",
    "\n",
    "\n",
    "stacked_model_1 = pipeline = Pipeline([\n",
    "        ('preprocessor', MinMaxScaler()),\n",
    "        ('model', TransformedTargetRegressor(regressor = stacked_regressor,\n",
    "                                        func= np.log,\n",
    "                                        inverse_func = np.exp))\n",
    "    ])\n",
    "\n",
    "grid_search = GridSearchCV(estimator=stacked_model_1, param_grid=final_estimator_param_grid, cv=3, scoring='neg_mean_squared_error')\n",
    "grid_search.fit(X_train, y_train)\n",
    "import pickle\n",
    "# save\n",
    "# Save the model using pickle\n",
    "with open('model_top8_7thjul.pkl', 'wb') as f:\n",
    "    pickle.dump(grid_search, f)"
   ]
  },
  {
   "cell_type": "code",
   "execution_count": 26,
   "id": "81850eb9",
   "metadata": {},
   "outputs": [],
   "source": [
    "# Use best estimator from GridSearchCV\n",
    "stacked_model_1 = grid_search.best_estimator_"
   ]
  },
  {
   "cell_type": "markdown",
   "id": "6db006d6",
   "metadata": {},
   "source": [
    "#predixtion"
   ]
  },
  {
   "cell_type": "code",
   "execution_count": 27,
   "id": "4872f026",
   "metadata": {},
   "outputs": [],
   "source": [
    " y_pred = stacked_model_1.predict(X_test)"
   ]
  },
  {
   "cell_type": "code",
   "execution_count": 28,
   "id": "b9b855ea",
   "metadata": {},
   "outputs": [
    {
     "data": {
      "text/plain": [
       "0.07560564092893514"
      ]
     },
     "execution_count": 28,
     "metadata": {},
     "output_type": "execute_result"
    }
   ],
   "source": [
    "mean_absolute_percentage_error(y_test, y_pred)"
   ]
  },
  {
   "cell_type": "code",
   "execution_count": 29,
   "id": "57287009",
   "metadata": {},
   "outputs": [
    {
     "data": {
      "text/plain": [
       "0.9629838121554892"
      ]
     },
     "execution_count": 29,
     "metadata": {},
     "output_type": "execute_result"
    }
   ],
   "source": [
    "r2_score(y_test, y_pred)"
   ]
  },
  {
   "cell_type": "code",
   "execution_count": 30,
   "id": "6ab9a537",
   "metadata": {},
   "outputs": [
    {
     "data": {
      "image/png": "[encoded data removed]",
      "text/plain": [
       "<Figure size 1200x500 with 1 Axes>"
      ]
     },
     "metadata": {},
     "output_type": "display_data"
    }
   ],
   "source": [
    "plt.figure(figsize = (12,5))\n",
    "plt.plot(range(len(y_test)), y_test)\n",
    "plt.plot(range(len(y_pred)), y_pred);"
   ]
  },
  {
   "cell_type": "code",
   "execution_count": 31,
   "id": "b88a417d",
   "metadata": {},
   "outputs": [],
   "source": [
    "# Individual Model"
   ]
  },
  {
   "cell_type": "code",
   "execution_count": 32,
   "id": "4d2127c5",
   "metadata": {},
   "outputs": [],
   "source": [
    "\n",
    "# Drop correlated features from X_train\n",
    "X_new = X.drop(corr_features, axis=1)\n",
    "\n",
    "# Drop correlated features from X_test\n",
    "#X_test = X_test.drop(corr_features, axis=1)"
   ]
  },
  {
   "cell_type": "code",
   "execution_count": 33,
   "id": "5f6218ed",
   "metadata": {},
   "outputs": [
    {
     "name": "stderr",
     "output_type": "stream",
     "text": [
      "C:\\Users\\DEBS\\AppData\\Local\\Temp\\ipykernel_38320\\2905610540.py:20: FutureWarning: The behavior of DataFrame concatenation with empty or all-NA entries is deprecated. In a future version, this will no longer exclude empty or all-NA columns when determining the result dtypes. To retain the old behavior, exclude the relevant entries before the concat operation.\n",
      "  model_performance_df  = pd.concat([model_performance_df, pd.DataFrame([{\"Model Name\" : model_namer.get(model_name),\n"
     ]
    }
   ],
   "source": [
    "model_performance_df = pd.DataFrame(columns = [\"Model Name\", \"Train R2 Score\", \"Test R2 Score\" ,\"Overall R2\", \"Train MAPE\" , \"Test MAPE\" ,  \"Overall MAPE\"])\n",
    "\n",
    "              \n",
    "model_namer = {\"lr\" : \"Linear\",\n",
    "               \"ridge\" : \"Ridge\",\n",
    "               \"lasso\" : \"Lasso\",\n",
    "               \"rf\" : \"Random Forest\",\n",
    "              \n",
    "               \"svr\" : \"SVR\",\n",
    "               \n",
    "               \"dt\" : \"Decision Tree\",\n",
    "              \n",
    "               \"lgbm\" : \"LGBM\"}\n",
    "for model_name, (model, _) in best_models.items():\n",
    "    y_pred = model.predict(X_test)\n",
    "    train_pred = model.predict(X_train)\n",
    "    total_pred = model.predict(X_new)\n",
    "    error = total_pred - y\n",
    "\n",
    "    model_performance_df  = pd.concat([model_performance_df, pd.DataFrame([{\"Model Name\" : model_namer.get(model_name),\n",
    "                                                       \"Train R2 Score\" : r2_score(y_train, train_pred),\n",
    "                                                       \"Test R2 Score\" : r2_score(y_test, y_pred),\n",
    "                                                       \"Overall R2\" : r2_score(y, total_pred),\n",
    "                                                       \"Train MAPE\" : mean_absolute_percentage_error(y_train, train_pred),\n",
    "                                                       \"Test MAPE\" : mean_absolute_percentage_error(y_test, y_pred),\n",
    "                                                       \"Overall MAPE\" : mean_absolute_percentage_error(y, total_pred),\n",
    "                                                       \"Error Variance\" : error.var()\n",
    "                                                      }])], ignore_index=True)\n",
    "    \n",
    "y_pred = stacked_model_1.predict(X_test)\n",
    "train_pred = stacked_model_1.predict(X_train)\n",
    "total_pred = stacked_model_1.predict(X_new)\n",
    "error = total_pred - y\n",
    "model_performance_df  = pd.concat([model_performance_df, pd.DataFrame([{\"Model Name\" : \"Stacked\",\n",
    "                                                    \"Train R2 Score\" : r2_score(y_train, train_pred),\n",
    "                                                    \"Test R2 Score\" : r2_score(y_test, y_pred),\n",
    "                                                    \"Overall R2\" : r2_score(y, total_pred),\n",
    "                                                    \"Train MAPE\" : mean_absolute_percentage_error(y_train, train_pred),\n",
    "                                                    \"Test MAPE\" : mean_absolute_percentage_error(y_test, y_pred),\n",
    "                                                    \"Overall MAPE\" : mean_absolute_percentage_error(y, total_pred),\n",
    "                                                    \"Error Variance\" : error.var()\n",
    "                                                    }])], ignore_index=True)\n"
   ]
  },
  {
   "cell_type": "code",
   "execution_count": 34,
   "id": "1022a83d",
   "metadata": {},
   "outputs": [
    {
     "data": {
      "text/html": [
       "<div>\n",
       "<style scoped>\n",
       "    .dataframe tbody tr th:only-of-type {\n",
       "        vertical-align: middle;\n",
       "    }\n",
       "\n",
       "    .dataframe tbody tr th {\n",
       "        vertical-align: top;\n",
       "    }\n",
       "\n",
       "    .dataframe thead th {\n",
       "        text-align: right;\n",
       "    }\n",
       "</style>\n",
       "<table border=\"1\" class=\"dataframe\">\n",
       "  <thead>\n",
       "    <tr style=\"text-align: right;\">\n",
       "      <th></th>\n",
       "      <th>Model Name</th>\n",
       "      <th>Train R2 Score</th>\n",
       "      <th>Test R2 Score</th>\n",
       "      <th>Overall R2</th>\n",
       "      <th>Train MAPE</th>\n",
       "      <th>Test MAPE</th>\n",
       "      <th>Overall MAPE</th>\n",
       "      <th>Error Variance</th>\n",
       "    </tr>\n",
       "  </thead>\n",
       "  <tbody>\n",
       "    <tr>\n",
       "      <th>0</th>\n",
       "      <td>Linear</td>\n",
       "      <td>0.890860</td>\n",
       "      <td>0.932580</td>\n",
       "      <td>0.895825</td>\n",
       "      <td>0.136610</td>\n",
       "      <td>0.117279</td>\n",
       "      <td>0.134630</td>\n",
       "      <td>5565.913516</td>\n",
       "    </tr>\n",
       "    <tr>\n",
       "      <th>1</th>\n",
       "      <td>Ridge</td>\n",
       "      <td>0.897292</td>\n",
       "      <td>0.922745</td>\n",
       "      <td>0.900350</td>\n",
       "      <td>0.139937</td>\n",
       "      <td>0.132111</td>\n",
       "      <td>0.139135</td>\n",
       "      <td>5289.100961</td>\n",
       "    </tr>\n",
       "    <tr>\n",
       "      <th>2</th>\n",
       "      <td>Lasso</td>\n",
       "      <td>0.235625</td>\n",
       "      <td>0.289524</td>\n",
       "      <td>0.242548</td>\n",
       "      <td>0.456990</td>\n",
       "      <td>0.509654</td>\n",
       "      <td>0.462385</td>\n",
       "      <td>36986.104724</td>\n",
       "    </tr>\n",
       "    <tr>\n",
       "      <th>3</th>\n",
       "      <td>Random Forest</td>\n",
       "      <td>0.988167</td>\n",
       "      <td>0.952138</td>\n",
       "      <td>0.983967</td>\n",
       "      <td>0.044292</td>\n",
       "      <td>0.074469</td>\n",
       "      <td>0.047383</td>\n",
       "      <td>852.932756</td>\n",
       "    </tr>\n",
       "    <tr>\n",
       "      <th>4</th>\n",
       "      <td>SVR</td>\n",
       "      <td>0.915992</td>\n",
       "      <td>0.929424</td>\n",
       "      <td>0.917631</td>\n",
       "      <td>0.126130</td>\n",
       "      <td>0.117343</td>\n",
       "      <td>0.125230</td>\n",
       "      <td>4299.566639</td>\n",
       "    </tr>\n",
       "    <tr>\n",
       "      <th>5</th>\n",
       "      <td>Decision Tree</td>\n",
       "      <td>0.988051</td>\n",
       "      <td>0.930968</td>\n",
       "      <td>0.981391</td>\n",
       "      <td>0.037384</td>\n",
       "      <td>0.078274</td>\n",
       "      <td>0.041573</td>\n",
       "      <td>999.218041</td>\n",
       "    </tr>\n",
       "    <tr>\n",
       "      <th>6</th>\n",
       "      <td>LGBM</td>\n",
       "      <td>0.978782</td>\n",
       "      <td>0.933735</td>\n",
       "      <td>0.973536</td>\n",
       "      <td>0.055952</td>\n",
       "      <td>0.082030</td>\n",
       "      <td>0.058623</td>\n",
       "      <td>1407.385111</td>\n",
       "    </tr>\n",
       "    <tr>\n",
       "      <th>7</th>\n",
       "      <td>Stacked</td>\n",
       "      <td>0.987484</td>\n",
       "      <td>0.962984</td>\n",
       "      <td>0.984631</td>\n",
       "      <td>0.042360</td>\n",
       "      <td>0.075606</td>\n",
       "      <td>0.045765</td>\n",
       "      <td>813.492923</td>\n",
       "    </tr>\n",
       "  </tbody>\n",
       "</table>\n",
       "</div>"
      ],
      "text/plain": [
       "      Model Name  Train R2 Score  Test R2 Score  Overall R2  Train MAPE  \\\n",
       "0         Linear        0.890860       0.932580    0.895825    0.136610   \n",
       "1          Ridge        0.897292       0.922745    0.900350    0.139937   \n",
       "2          Lasso        0.235625       0.289524    0.242548    0.456990   \n",
       "3  Random Forest        0.988167       0.952138    0.983967    0.044292   \n",
       "4            SVR        0.915992       0.929424    0.917631    0.126130   \n",
       "5  Decision Tree        0.988051       0.930968    0.981391    0.037384   \n",
       "6           LGBM        0.978782       0.933735    0.973536    0.055952   \n",
       "7        Stacked        0.987484       0.962984    0.984631    0.042360   \n",
       "\n",
       "   Test MAPE  Overall MAPE  Error Variance  \n",
       "0   0.117279      0.134630     5565.913516  \n",
       "1   0.132111      0.139135     5289.100961  \n",
       "2   0.509654      0.462385    36986.104724  \n",
       "3   0.074469      0.047383      852.932756  \n",
       "4   0.117343      0.125230     4299.566639  \n",
       "5   0.078274      0.041573      999.218041  \n",
       "6   0.082030      0.058623     1407.385111  \n",
       "7   0.075606      0.045765      813.492923  "
      ]
     },
     "execution_count": 34,
     "metadata": {},
     "output_type": "execute_result"
    }
   ],
   "source": [
    "model_performance_df"
   ]
  },
  {
   "cell_type": "code",
   "execution_count": null,
   "id": "a4224287",
   "metadata": {},
   "outputs": [],
   "source": [
    "\n"
   ]
  },
  {
   "cell_type": "code",
   "execution_count": null,
   "id": "172d3233",
   "metadata": {},
   "outputs": [],
   "source": [
    "\n"
   ]
  },
  {
   "cell_type": "code",
   "execution_count": 35,
   "id": "b7b81943",
   "metadata": {},
   "outputs": [],
   "source": [
    "# Use best estimator from GridSearchCV\n",
    "#stacked_model_1 = grid_search.best_estimator_\n",
    "\n",
    "# Explain model predictions using SHAP\n",
    "#explainer = shap.Explainer(stacked_model_1.named_steps['model'].regressor_)\n",
    "#shap_values = explainer.shap_values(X_test)\n",
    "\n",
    "# Plot SHAP waterfall plots\n",
    "#shap.plots.waterfall(shap_values[0])\n",
    "#shap.plots.waterfall(shap_values[1], max_display=4)\n"
   ]
  },
  {
   "cell_type": "code",
   "execution_count": null,
   "id": "725b64de",
   "metadata": {},
   "outputs": [],
   "source": []
  }
 ],
 "metadata": {
  "kernelspec": {
   "display_name": "Python 3 (ipykernel)",
   "language": "python",
   "name": "python3"
  },
  "language_info": {
   "codemirror_mode": {
    "name": "ipython",
    "version": 3
   },
   "file_extension": ".py",
   "mimetype": "text/x-python",
   "name": "python",
   "nbconvert_exporter": "python",
   "pygments_lexer": "ipython3",
   "version": "3.11.7"
  }
 },
 "nbformat": 4,
 "nbformat_minor": 5
}
